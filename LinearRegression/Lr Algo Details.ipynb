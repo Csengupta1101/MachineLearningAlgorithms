{
 "cells": [
  {
   "attachments": {},
   "cell_type": "markdown",
   "metadata": {},
   "source": [
    "### Regression Analysis\n",
    "\n",
    "In all business case scnearios , we come up with two very important terminologies.\n",
    "\n",
    "1. Independent Variable\n",
    "2. Dependent Variable\n",
    "\n",
    "As an example we can think of a company holding their annual budget meeting , and out of every other cost factor that will be decided in the meeting , one of the most important decision that needs to be taken is the salary structure of the employees. \n",
    "\n",
    "If we think logically then can identify areas which might affect the salary of an individual.\n",
    "\n",
    "##### Performence\n",
    "##### Adehrenece\n",
    "##### Efficinecy\n",
    "##### Previous Pay\n",
    "\n",
    "All the above factors described can be called as the independent variables in this case scenario. Now let's remember why we are taking all these independent variables into consideration.. To determine the salary of an individual. So the salary is dependent here on all the above mentioned variables. Hence the dependent variable in this case scenario would be -\n",
    "\n",
    "##### Salary\n",
    "\n",
    "The Analysis that is conducted to establish a relation between this dependent and independent variables is called a \"Regression Analysis\".\n",
    "\n"
   ]
  },
  {
   "cell_type": "markdown",
   "metadata": {},
   "source": []
  }
 ],
 "metadata": {
  "language_info": {
   "name": "python"
  },
  "orig_nbformat": 4
 },
 "nbformat": 4,
 "nbformat_minor": 2
}
