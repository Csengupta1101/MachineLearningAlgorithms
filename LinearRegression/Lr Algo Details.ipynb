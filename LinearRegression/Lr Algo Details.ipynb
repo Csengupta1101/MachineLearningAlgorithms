{
 "cells": [
  {
   "attachments": {},
   "cell_type": "markdown",
   "metadata": {},
   "source": [
    "### Regression Analysis\n",
    "\n",
    "In all business case scnearios , we come up with two very important terminologies.\n",
    "\n",
    "1. **Independent Variable**\n",
    "2. **Dependent Variable**\n",
    "\n",
    "As an example we can think of a company holding their annual budget meeting , and out of every other cost factor that will be decided in the meeting , one of the most important decision that needs to be taken is the salary structure of the employees. \n",
    "\n",
    "If we think logically then can identify areas which might affect the salary of an individual.\n",
    "\n",
    "1. **Performence**\n",
    "2. **Adehrenece**\n",
    "3. **Efficinecy**\n",
    "4. **Previous Pay**\n",
    "\n",
    "All the above factors described can be called as the independent variables in this case scenario. Now let's remember why we are taking all these independent variables into consideration.. To determine the salary of an individual. So the salary is dependent here on all the above mentioned variables. Hence the dependent variable in this case scenario would be -\n",
    "\n",
    "1. **Salary**\n",
    "\n",
    "The Analysis that is conducted to establish a relation between this dependent and independent variables is called a \"Regression Analysis\".\n",
    "\n",
    "Remember that in regression analysis the dependent variable will always be of continuos and numeric in nature\n",
    "\n"
   ]
  },
  {
   "attachments": {},
   "cell_type": "markdown",
   "metadata": {},
   "source": [
    "#### Linear Regression\n",
    "\n",
    "In case of linear regression , the relationship between dependent and independent variable is linear in nature. Now when we talk about the linear nature , it simply means then when the value of independent variable increases , the value of dependent variable increase as well ,and vice versa. There are two types of linear regression.\n",
    "\n",
    "1. **Simple Linear Regression** - Where the Number of independent variable is one\n",
    "2. **Multiple Linear Regression** - Where the number of independent variable is more than one\n",
    "\n",
    "Please remember that in both the scenarios the number of dependent variable remains one only."
   ]
  },
  {
   "attachments": {},
   "cell_type": "markdown",
   "metadata": {},
   "source": [
    "##### Regression Co-efficients\n",
    "\n",
    "Co efficients are the element which determines that which independent variable is more important to determine the value of dependent variable.\n",
    "\n",
    "Lets's take a house price prediction into consideration , the independent variables are represneted with x and dependent variable is represneted here with y\n",
    "\n",
    "**Independent Variables**\n",
    "\n",
    "1. Location - x1\n",
    "2. Area by sq ft - x2\n",
    "3. Previous owner's name - x3\n",
    "4. Crime rate in locality - x4\n",
    "\n",
    "**Dependent variable**\n",
    "\n",
    "1. House price - y\n",
    "\n",
    "Now judging by the above example it can clearly be stated that only independent variable which is not at all important when it comes to determine the House price is 'Previous owner's name', so it's co efficient value will be less than others. let's suppose the co efficient values are ranging from 1 to 4 as we have 4 independent variables here ,1 being the lowest and 4 being the highest , so now as per their respective co efficient value we can re order the independent variables as below ,\n",
    "\n",
    "1. Location - x1(3 - coef value)\n",
    "2. Area by sq ft - x2(4 - coef value)\n",
    "3. Previous owner's name - x3(1 - coef value)\n",
    "4. Crime rate in locality - x4(2 - coef value)\n",
    "\n",
    "The determining of the co efficient values for all independent variables will be done by training our model.\n",
    "\n",
    "\n",
    "\n",
    "\n"
   ]
  },
  {
   "attachments": {},
   "cell_type": "markdown",
   "metadata": {},
   "source": [
    "### Representation\n",
    "\n",
    "#### Simple Linear regression represntation\n"
   ]
  },
  {
   "cell_type": "markdown",
   "metadata": {},
   "source": []
  }
 ],
 "metadata": {
  "language_info": {
   "name": "python"
  },
  "orig_nbformat": 4
 },
 "nbformat": 4,
 "nbformat_minor": 2
}
